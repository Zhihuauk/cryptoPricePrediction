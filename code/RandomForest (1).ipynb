{
 "cells": [
  {
   "cell_type": "code",
   "execution_count": 2,
   "id": "bf934b3b-210b-4076-8afa-4459eff05e2a",
   "metadata": {},
   "outputs": [],
   "source": [
    "#common package\n",
    "import pandas as pd\n",
    "from matplotlib import pyplot as plt\n",
    "import numpy as np\n",
    "\n",
    "# by using built-in package\n",
    "from sklearn import svm, datasets \n",
    "import sklearn.model_selection as model_selection\n",
    "from sklearn.metrics import accuracy_score\n",
    "from sklearn.metrics import f1_score\n",
    "import numpy as np\n",
    "import pandas as pd\n",
    "#for \n",
    "from sklearn.model_selection import ShuffleSplit,cross_val_score,cross_validate\n",
    "from sklearn import metrics\n",
    "import statistics as sta\n",
    "from sklearn.metrics import recall_score\n",
    "#for randomforest\n",
    "from sklearn.ensemble import RandomForestClassifier\n",
    "from sklearn.datasets import make_classification\n",
    "\n",
    "\n",
    "\n",
    "#dataset\n",
    "#df = pd.read_csv(r'G:\\MScProject\\data\\raw_col_norm.csv')\n",
    "df = pd.read_csv(r'G:\\MScProject\\data\\raw_add_col.csv')\n",
    "\n",
    "#split data and choose features\n",
    "# X = df.iloc[:-30,2:]\n",
    "# y = df.iloc[:-30,1]\n",
    "\n"
   ]
  },
  {
   "cell_type": "code",
   "execution_count": 3,
   "id": "494544c1-528a-44e0-bf1f-661c2332c1f2",
   "metadata": {},
   "outputs": [
    {
     "data": {
      "text/plain": [
       "30      1\n",
       "31      0\n",
       "32      1\n",
       "33      1\n",
       "34      0\n",
       "       ..\n",
       "1150    0\n",
       "1151    1\n",
       "1152    1\n",
       "1153   -1\n",
       "1154    0\n",
       "Name: up_do_1d, Length: 1125, dtype: int64"
      ]
     },
     "execution_count": 3,
     "metadata": {},
     "output_type": "execute_result"
    }
   ],
   "source": [
    "#select features\n",
    "df1 = df.drop(['per_1_d','per_3_d','per_7_d','per_15_d','price_back_1_d','price_back_3_d','price_back_7_d','price_back_15_d','price_back_30_d'],axis=1)\n",
    "df1 = df1.dropna()\n",
    "df1.iloc[:,-1]"
   ]
  },
  {
   "cell_type": "code",
   "execution_count": 4,
   "id": "dcda8eaa-8727-454a-a42a-c5d6e99d0ccb",
   "metadata": {},
   "outputs": [],
   "source": [
    "#split dataset\n",
    "X = df1.iloc[:-30,2:-2] #exclude the the finaly features related to price\n",
    "y = df1.iloc[:-30,-1]\n"
   ]
  },
  {
   "cell_type": "code",
   "execution_count": 5,
   "id": "38d32e11-5922-4d83-acee-cb4c87f27813",
   "metadata": {},
   "outputs": [
    {
     "name": "stdout",
     "output_type": "stream",
     "text": [
      " 1    0.439269\n",
      " 0    0.369863\n",
      "-1    0.190868\n",
      "Name: up_do_1d, dtype: float64\n"
     ]
    },
    {
     "data": {
      "text/plain": [
       "([<matplotlib.patches.Wedge object at 0x0000019D018B9CD0>, <matplotlib.patches.Wedge object at 0x0000019D018CE400>, <matplotlib.patches.Wedge object at 0x0000019D018CEA90>], [Text(0.20859897405969932, 1.0800400307494353, ''), Text(-0.7817129995330622, -0.7739023106058174, ''), Text(0.9080999464752926, -0.6207692705116539, '')], [Text(0.1137812585780178, 0.5891127440451465, '43.9%'), Text(-0.42638890883621566, -0.4221285330577185, '37.0%'), Text(0.49532724353197766, -0.33860142027908385, '19.1%')])"
      ]
     },
     "execution_count": 5,
     "metadata": {},
     "output_type": "execute_result"
    },
    {
     "data": {
      "image/png": "[encoded data removed]",
      "text/plain": [
       "<Figure size 432x288 with 1 Axes>"
      ]
     },
     "metadata": {},
     "output_type": "display_data"
    }
   ],
   "source": [
    "#number of sifferent class\n",
    "sizes = y.value_counts(sort = 1)\n",
    "print(sizes/len(y))\n",
    "plt.pie(sizes, autopct='%1.1f%%')"
   ]
  },
  {
   "cell_type": "code",
   "execution_count": 6,
   "id": "66084126-4be6-4287-8b3b-52397903ac0a",
   "metadata": {},
   "outputs": [],
   "source": [
    "#data split\n",
    "from sklearn.model_selection import train_test_split\n",
    "#shuffle \n",
    "#crv = ShuffleSplit(n_splits = 5,test_size=0.2,random_state = 42)\n",
    "#normal class validation \n",
    "X_train, X_test, y_train, y_test = train_test_split(X, y, test_size=0.3, random_state=20)"
   ]
  },
  {
   "cell_type": "code",
   "execution_count": 7,
   "id": "1fe3d3cf-6bcb-4ae8-a1c3-9682be73d166",
   "metadata": {},
   "outputs": [
    {
     "data": {
      "text/plain": [
       "RandomForestClassifier(n_estimators=500, random_state=30)"
      ]
     },
     "execution_count": 7,
     "metadata": {},
     "output_type": "execute_result"
    }
   ],
   "source": [
    "#define model\n",
    "from sklearn.ensemble import RandomForestClassifier\n",
    "#from sklearn.ensemble import RandomForestRegressor\n",
    "\n",
    "# Instantiate model with 10 decision trees\n",
    "model = RandomForestClassifier(n_estimators = 500, random_state = 30)\n",
    "# Train the model on training data\n",
    "model.fit(X_train, y_train)"
   ]
  },
  {
   "cell_type": "code",
   "execution_count": 8,
   "id": "16eef5cf-5f60-42cd-b37a-e58e5666295d",
   "metadata": {},
   "outputs": [
    {
     "name": "stdout",
     "output_type": "stream",
     "text": [
      "Accuracy =  0.5835866261398176\n",
      "realized_loss                      0.072096\n",
      "realized_profit                    0.042010\n",
      "realized_profits_to_value_ratio    0.040752\n",
      "loss_sum                           0.037432\n",
      "profit_relative                    0.036897\n",
      "transfers_volume_exchanges_net     0.036157\n",
      "profit_sum                         0.033443\n",
      "per_30_d                           0.031831\n",
      "SMA_3                              0.031473\n",
      "seller_exhaustion_constant         0.030816\n",
      "count                              0.029234\n",
      "new_non_zero_count                 0.028862\n",
      "10-100-address                     0.028475\n",
      "active_count                       0.028419\n",
      "active_1y_2y                       0.028414\n",
      "receiving_count                    0.028240\n",
      "SMA_7                              0.028164\n",
      "100-1k-address                     0.028067\n",
      "active_2y_3y                       0.027504\n",
      "active_3m_6m                       0.027289\n",
      "network_capacity_sum               0.026289\n",
      "exchange_net_position_change       0.025907\n",
      "ssr_oscillator                     0.025705\n",
      "active_3y_5y                       0.025364\n",
      "active_6m_12m                      0.025320\n",
      "balance_exchanges_relative         0.024256\n",
      "1k-10k-address                     0.023385\n",
      "1_10_address                       0.022966\n",
      "marketcap_realized_usd             0.022654\n",
      "mvrv_z_score                       0.022570\n",
      "mvrv                               0.022333\n",
      "balance_exchanges                  0.022283\n",
      "net_unrealized_profit_loss         0.021343\n",
      "10k+address                        0.014052\n",
      "dtype: float64\n"
     ]
    }
   ],
   "source": [
    "# model and result\n",
    "prediction_test = model.predict(X_test)\n",
    "#print(y_test, prediction_test)\n",
    "\n",
    "from sklearn import metrics\n",
    "#Print the prediction accuracy\n",
    "print (\"Accuracy = \", metrics.accuracy_score(y_test, prediction_test))\n",
    "#Test accuracy for various test sizes and see how it gets better with more training data\n",
    "\n",
    "#One amazing feature of Random forest is that it provides us info on feature importances\n",
    "# Get numerical feature importances\n",
    "#importances = list(model.feature_importances_)\n",
    "\n",
    "#Let us print them into a nice format.\n",
    "\n",
    "feature_list = list(X.columns)\n",
    "feature_imp = pd.Series(model.feature_importances_,index=feature_list).sort_values(ascending=False)\n",
    "print(feature_imp)"
   ]
  },
  {
   "cell_type": "code",
   "execution_count": 9,
   "id": "41947d9d-4bbe-45a5-bf6d-3dab78053d21",
   "metadata": {},
   "outputs": [
    {
     "name": "stdout",
     "output_type": "stream",
     "text": [
      "Parameters currently in use:\n",
      "\n",
      "{'bootstrap': True,\n",
      " 'ccp_alpha': 0.0,\n",
      " 'criterion': 'squared_error',\n",
      " 'max_depth': None,\n",
      " 'max_features': 'auto',\n",
      " 'max_leaf_nodes': None,\n",
      " 'max_samples': None,\n",
      " 'min_impurity_decrease': 0.0,\n",
      " 'min_samples_leaf': 1,\n",
      " 'min_samples_split': 2,\n",
      " 'min_weight_fraction_leaf': 0.0,\n",
      " 'n_estimators': 100,\n",
      " 'n_jobs': None,\n",
      " 'oob_score': False,\n",
      " 'random_state': 42,\n",
      " 'verbose': 0,\n",
      " 'warm_start': False}\n"
     ]
    }
   ],
   "source": [
    "#paramater tune\n",
    "from sklearn.ensemble import RandomForestRegressor\n",
    "rf = RandomForestRegressor(random_state = 42)\n",
    "from pprint import pprint\n",
    "# Look at parameters used by our current forest\n",
    "print('Parameters currently in use:\\n')\n",
    "pprint(rf.get_params())"
   ]
  },
  {
   "cell_type": "code",
   "execution_count": 10,
   "id": "edadb269-c5d1-44f7-b214-85d0d007a3d8",
   "metadata": {},
   "outputs": [
    {
     "name": "stdout",
     "output_type": "stream",
     "text": [
      "{'bootstrap': [True, False],\n",
      " 'max_depth': [3, 5, 10, 20],\n",
      " 'max_features': ['auto', 'sqrt'],\n",
      " 'min_samples_leaf': [1, 2, 4],\n",
      " 'min_samples_split': [2, 5, 10],\n",
      " 'n_estimators': [50, 100, 300, 500]}\n"
     ]
    }
   ],
   "source": [
    "from sklearn.model_selection import RandomizedSearchCV\n",
    "# Number of trees in random forest\n",
    "n_estimators = [50,100,300,500]\n",
    "#n_estimators = [int(x) for x in np.linspace(start = 200, stop = 2000, num = 10)]\n",
    "# Number of features to consider at every split\n",
    "max_features = ['auto', 'sqrt']\n",
    "# Maximum number of levels in tree\n",
    "max_depth=[3,5,10,20]\n",
    "#max_depth = [int(x) for x in np.linspace(10, 110, num = 11)]\n",
    "#max_depth.append(None)\n",
    "# Minimum number of samples required to split a node\n",
    "min_samples_split = [2, 5, 10]\n",
    "# Minimum number of samples required at each leaf node\n",
    "min_samples_leaf = [1, 2, 4]\n",
    "# Method of selecting samples for training each tree\n",
    "bootstrap = [True, False]\n",
    "# Create the random grid\n",
    "random_grid = {'n_estimators': n_estimators,\n",
    "               'max_features': max_features,\n",
    "               'max_depth': max_depth,\n",
    "               'min_samples_split': min_samples_split,\n",
    "               'min_samples_leaf': min_samples_leaf,\n",
    "               'bootstrap': bootstrap}\n",
    "pprint(random_grid)"
   ]
  },
  {
   "cell_type": "code",
   "execution_count": 11,
   "id": "0df30ec3-821c-4151-91b9-a1d697db189f",
   "metadata": {},
   "outputs": [
    {
     "name": "stdout",
     "output_type": "stream",
     "text": [
      "Fitting 10 folds for each of 100 candidates, totalling 1000 fits\n"
     ]
    }
   ],
   "source": [
    "from time import time\n",
    "# Use the random grid to search for best hyperparameters\n",
    "# First create the base model to tune\n",
    "rf = RandomForestClassifier()\n",
    "# Random search of parameters, using 3 fold cross validation, \n",
    "# search across 100 different combinations, and use all available cores\n",
    "start = time()\n",
    "rf_random = RandomizedSearchCV(estimator = rf, param_distributions = random_grid, n_iter = 100, cv = 10, verbose=2, random_state=42, n_jobs = -1)\n",
    "# Fit the random search model\n",
    "start = time()\n",
    "rf_random.fit(X_train, y_train)\n",
    "end = time()\n",
    "time_cost = end -start"
   ]
  },
  {
   "cell_type": "code",
   "execution_count": 12,
   "id": "3123a75d-3c76-4208-8d53-e4f8c8823a8d",
   "metadata": {},
   "outputs": [
    {
     "name": "stdout",
     "output_type": "stream",
     "text": [
      "best para is  {'n_estimators': 500, 'min_samples_split': 10, 'min_samples_leaf': 1, 'max_features': 'auto', 'max_depth': 20, 'bootstrap': True}\n",
      "train accuracy is  0.9673629242819843\n",
      "test accuracy is  0.5775075987841946\n"
     ]
    }
   ],
   "source": [
    "# best para is  {'n_estimators': 50, 'min_samples_split': 5, 'min_samples_leaf': 1, 'max_features': 'auto', 'max_depth': 10, 'bootstrap': False}\n",
    "best_para = rf_random.best_params_\n",
    "print('best para is ',best_para)\n",
    "train_score = rf_random.score(X_train, y_train)\n",
    "test_score = rf_random.score(X_test, y_test)\n",
    "print('train accuracy is ', train_score)\n",
    "print('test accuracy is ', test_score)\n",
    "# abs(rf_random.predict(X_test)- y_test)/y_test\n",
    "# rf_random.predict(X_test)"
   ]
  },
  {
   "cell_type": "code",
   "execution_count": null,
   "id": "6322ab59-ff2a-42ee-9747-31e0dad4cf45",
   "metadata": {},
   "outputs": [],
   "source": []
  },
  {
   "cell_type": "code",
   "execution_count": null,
   "id": "0c298563-c1e1-4ab6-9668-16617a527e1c",
   "metadata": {},
   "outputs": [],
   "source": []
  },
  {
   "cell_type": "code",
   "execution_count": 13,
   "id": "18270ee9-0818-435f-b60e-6e50c11ca0e0",
   "metadata": {},
   "outputs": [],
   "source": [
    "from sklearn.model_selection import GridSearchCV\n",
    "# Create the parameter grid based on the results of random search \n",
    "param_grid = {\n",
    "    'bootstrap': [True],\n",
    "    'max_depth': [80, 90, 100, 110],\n",
    "    'max_features': [2, 3],\n",
    "    'min_samples_leaf': [3, 4, 5],\n",
    "    'min_samples_split': [8, 10, 12],\n",
    "    'n_estimators': [100, 200, 300, 1000]\n",
    "}\n",
    "# Create a based model\n",
    "rf = RandomForestClassifier()\n",
    "# Instantiate the grid search model\n",
    "grid_search = GridSearchCV(estimator = rf, param_grid = random_grid, \n",
    "                          cv = 3, n_jobs = -1, verbose = 2)"
   ]
  },
  {
   "cell_type": "code",
   "execution_count": 14,
   "id": "1e7c6828-d8ee-4c22-8a37-554b57f9c488",
   "metadata": {},
   "outputs": [
    {
     "name": "stdout",
     "output_type": "stream",
     "text": [
      "Fitting 3 folds for each of 576 candidates, totalling 1728 fits\n"
     ]
    },
    {
     "data": {
      "text/plain": [
       "{'bootstrap': True, 'max_depth': 5, 'max_features': 'sqrt', 'min_samples_leaf': 2, 'min_samples_split': 2, 'n_estimators': 50}"
      ]
     },
     "execution_count": 14,
     "metadata": {},
     "output_type": "execute_result"
    }
   ],
   "source": [
    "# Fit the grid search to the data\n",
    "grid_search.fit(X_train, y_train)\n",
    "grid_search.best_params_\n",
    "# grid_accuracy = evaluate(best_grid, X_test, y_test)\n",
    "\n",
    "\n",
    "# print('Improvement of {:0.2f}%.'.format( 100 * (grid_accuracy - base_accuracy) / base_accuracy))\n"
   ]
  },
  {
   "cell_type": "code",
   "execution_count": 15,
   "id": "0ca16e54-bdda-4118-8544-d9b578f382b8",
   "metadata": {},
   "outputs": [
    {
     "name": "stdout",
     "output_type": "stream",
     "text": [
      "best_para is  {'bootstrap': True, 'max_depth': 5, 'max_features': 'sqrt', 'min_samples_leaf': 2, 'min_samples_split': 2, 'n_estimators': 50}\n",
      "test accuracy is  0.5623100303951368\n"
     ]
    }
   ],
   "source": [
    "best_grid = grid_search.best_estimator_\n",
    "best_para = grid_search.best_params_\n",
    "best_accu = best_grid.score(X_test,y_test)\n",
    "print('best_para is ',best_para)\n",
    "print('test accuracy is ', best_accu)"
   ]
  },
  {
   "cell_type": "code",
   "execution_count": 16,
   "id": "31bddef4-52e7-4cc8-8b46-565a1ffd1589",
   "metadata": {},
   "outputs": [],
   "source": [
    "# best_para is  {'bootstrap': True, 'max_depth': 10, 'max_features': 'auto', 'min_samples_leaf': 4, 'min_samples_split': 10, 'n_estimators': 50}\n",
    "# test accuracy is  0.5835866261398176"
   ]
  },
  {
   "cell_type": "code",
   "execution_count": 20,
   "id": "5bb4a2ce-4972-4cbb-b304-a10045ba5e21",
   "metadata": {},
   "outputs": [
    {
     "name": "stdout",
     "output_type": "stream",
     "text": [
      "realized_loss                      0.125438\n",
      "realized_profits_to_value_ratio    0.072621\n",
      "realized_profit                    0.069371\n",
      "loss_sum                           0.066848\n",
      "profit_relative                    0.064250\n",
      "active_2y_3y                       0.046395\n",
      "profit_sum                         0.040900\n",
      "ssr_oscillator                     0.035207\n",
      "SMA_3                              0.029287\n",
      "active_1y_2y                       0.027722\n",
      "seller_exhaustion_constant         0.025919\n",
      "10-100-address                     0.024122\n",
      "transfers_volume_exchanges_net     0.024087\n",
      "SMA_7                              0.022152\n",
      "per_30_d                           0.021572\n",
      "active_6m_12m                      0.021201\n",
      "100-1k-address                     0.019523\n",
      "active_3m_6m                       0.019403\n",
      "count                              0.019010\n",
      "net_unrealized_profit_loss         0.018941\n",
      "mvrv_z_score                       0.018381\n",
      "balance_exchanges_relative         0.018246\n",
      "active_3y_5y                       0.017834\n",
      "1_10_address                       0.017442\n",
      "active_count                       0.016483\n",
      "mvrv                               0.015885\n",
      "network_capacity_sum               0.014876\n",
      "exchange_net_position_change       0.014567\n",
      "balance_exchanges                  0.014405\n",
      "1k-10k-address                     0.014018\n",
      "receiving_count                    0.013553\n",
      "new_non_zero_count                 0.013295\n",
      "marketcap_realized_usd             0.010863\n",
      "10k+address                        0.006179\n",
      "dtype: float64\n"
     ]
    }
   ],
   "source": [
    "#feature impotantce\n",
    "feature_list = list(X.columns)\n",
    "feature_imp = pd.Series(best_grid.feature_importances_,index=feature_list).sort_values(ascending=False)\n",
    "print(feature_imp)"
   ]
  },
  {
   "cell_type": "code",
   "execution_count": 25,
   "id": "ace2e67e-dc72-486c-91b2-3e76503240ac",
   "metadata": {},
   "outputs": [
    {
     "data": {
      "image/png": "[encoded data removed]",
      "text/plain": [
       "<Figure size 432x288 with 1 Axes>"
      ]
     },
     "metadata": {
      "needs_background": "light"
     },
     "output_type": "display_data"
    }
   ],
   "source": [
    "# Feature importances are provided by the fitted attribute feature_importances_ and they are computed as the mean \n",
    "# and standard deviation of accumulation of the impurity decrease within each tree.\n",
    "feature_imp = pd.Series(best_grid.feature_importances_,index=feature_list).sort_values(ascending=False)\n",
    "\n",
    "fig, ax = plt.subplots()\n",
    "feature_imp.plot.bar()\n",
    "ax.set_title(\"Feature importances \")\n",
    "ax.set_ylabel(\"feature importance\")\n",
    "fig.tight_layout()"
   ]
  },
  {
   "cell_type": "code",
   "execution_count": 17,
   "id": "ccf389e0-bb4f-4f55-b1a1-7fa7ea888d71",
   "metadata": {},
   "outputs": [
    {
     "name": "stdout",
     "output_type": "stream",
     "text": [
      "{'cv': 3,\n",
      " 'error_score': nan,\n",
      " 'estimator': RandomForestClassifier(),\n",
      " 'estimator__bootstrap': True,\n",
      " 'estimator__ccp_alpha': 0.0,\n",
      " 'estimator__class_weight': None,\n",
      " 'estimator__criterion': 'gini',\n",
      " 'estimator__max_depth': None,\n",
      " 'estimator__max_features': 'auto',\n",
      " 'estimator__max_leaf_nodes': None,\n",
      " 'estimator__max_samples': None,\n",
      " 'estimator__min_impurity_decrease': 0.0,\n",
      " 'estimator__min_samples_leaf': 1,\n",
      " 'estimator__min_samples_split': 2,\n",
      " 'estimator__min_weight_fraction_leaf': 0.0,\n",
      " 'estimator__n_estimators': 100,\n",
      " 'estimator__n_jobs': None,\n",
      " 'estimator__oob_score': False,\n",
      " 'estimator__random_state': None,\n",
      " 'estimator__verbose': 0,\n",
      " 'estimator__warm_start': False,\n",
      " 'n_jobs': -1,\n",
      " 'param_grid': {'bootstrap': [True, False],\n",
      "                'max_depth': [3, 5, 10, 20],\n",
      "                'max_features': ['auto', 'sqrt'],\n",
      "                'min_samples_leaf': [1, 2, 4],\n",
      "                'min_samples_split': [2, 5, 10],\n",
      "                'n_estimators': [50, 100, 300, 500]},\n",
      " 'pre_dispatch': '2*n_jobs',\n",
      " 'refit': True,\n",
      " 'return_train_score': False,\n",
      " 'scoring': None,\n",
      " 'verbose': 2}\n"
     ]
    }
   ],
   "source": [
    "pprint(grid_search.get_params())"
   ]
  },
  {
   "cell_type": "code",
   "execution_count": null,
   "id": "86cce96e-fe87-405c-a1b4-ba09fdf355e6",
   "metadata": {},
   "outputs": [],
   "source": []
  },
  {
   "cell_type": "code",
   "execution_count": 1,
   "id": "9f772e9e-da6b-4241-989e-9a2a0708653b",
   "metadata": {},
   "outputs": [
    {
     "ename": "NameError",
     "evalue": "name 'df' is not defined",
     "output_type": "error",
     "traceback": [
      "\u001b[1;31m---------------------------------------------------------------------------\u001b[0m",
      "\u001b[1;31mNameError\u001b[0m                                 Traceback (most recent call last)",
      "\u001b[1;32m~\\AppData\\Local\\Temp/ipykernel_8640/528617989.py\u001b[0m in \u001b[0;36m<module>\u001b[1;34m\u001b[0m\n\u001b[1;32m----> 1\u001b[1;33m \u001b[1;32mfor\u001b[0m \u001b[0mc\u001b[0m \u001b[1;32min\u001b[0m \u001b[0mdf\u001b[0m\u001b[1;33m.\u001b[0m\u001b[0mcol\u001b[0m\u001b[1;33m:\u001b[0m\u001b[1;33m\u001b[0m\u001b[1;33m\u001b[0m\u001b[0m\n\u001b[0m\u001b[0;32m      2\u001b[0m     \u001b[0mprint\u001b[0m\u001b[1;33m(\u001b[0m\u001b[0mc\u001b[0m\u001b[1;33m)\u001b[0m\u001b[1;33m\u001b[0m\u001b[1;33m\u001b[0m\u001b[0m\n",
      "\u001b[1;31mNameError\u001b[0m: name 'df' is not defined"
     ]
    }
   ],
   "source": []
  }
 ],
 "metadata": {
  "kernelspec": {
   "display_name": "Python 3 (ipykernel)",
   "language": "python",
   "name": "python3"
  },
  "language_info": {
   "codemirror_mode": {
    "name": "ipython",
    "version": 3
   },
   "file_extension": ".py",
   "mimetype": "text/x-python",
   "name": "python",
   "nbconvert_exporter": "python",
   "pygments_lexer": "ipython3",
   "version": "3.8.8"
  }
 },
 "nbformat": 4,
 "nbformat_minor": 5
}
